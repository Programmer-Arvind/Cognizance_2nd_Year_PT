{
 "cells": [
  {
   "cell_type": "code",
   "execution_count": 20,
   "metadata": {},
   "outputs": [
    {
     "name": "stdout",
     "output_type": "stream",
     "text": [
      "Total dataset size: 150 samples\n",
      "Training set size: 120 samples\n",
      "Test set size: 30 samples\n"
     ]
    }
   ],
   "source": [
    "from sklearn import datasets\n",
    "from sklearn.model_selection import train_test_split\n",
    "\n",
    "# Loading the iris dataset\n",
    "iris_dataset = datasets.load_iris()\n",
    "\n",
    "# Splitting the data passing in the X as data and y as the target\n",
    "X_train, X_test, y_train, y_test = train_test_split(iris_dataset['data'], iris_dataset['target'], train_size=0.8, test_size=0.2)\n",
    "\n",
    "# Checking the split percentage\n",
    "print(f\"Total dataset size: {len(iris_dataset['data'])} samples\")\n",
    "print(f\"Training set size: {len(X_train)} samples\")\n",
    "print(f\"Test set size: {len(X_test)} samples\")"
   ]
  }
 ],
 "metadata": {
  "kernelspec": {
   "display_name": "CogVenv",
   "language": "python",
   "name": "python3"
  },
  "language_info": {
   "codemirror_mode": {
    "name": "ipython",
    "version": 3
   },
   "file_extension": ".py",
   "mimetype": "text/x-python",
   "name": "python",
   "nbconvert_exporter": "python",
   "pygments_lexer": "ipython3",
   "version": "3.11.8"
  }
 },
 "nbformat": 4,
 "nbformat_minor": 2
}
